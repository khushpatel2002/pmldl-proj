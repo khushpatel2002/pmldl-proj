{
  "cells": [
    {
      "cell_type": "markdown",
      "metadata": {
        "id": "Ux2THx7Au7js"
      },
      "source": [
        "Link to Dataset https://huggingface.co/datasets/s-nlp/paradetox"
      ]
    },
    {
      "cell_type": "code",
      "execution_count": 1,
      "metadata": {},
      "outputs": [
        {
          "name": "stdout",
          "output_type": "stream",
          "text": [
            "Requirement already satisfied: nltk in /Users/khushpatel2002/inno/pmldl_project/.venv/lib/python3.11/site-packages (3.9.1)\n",
            "Requirement already satisfied: pandas in /Users/khushpatel2002/inno/pmldl_project/.venv/lib/python3.11/site-packages (2.2.3)\n",
            "Requirement already satisfied: click in /Users/khushpatel2002/inno/pmldl_project/.venv/lib/python3.11/site-packages (from nltk) (8.1.7)\n",
            "Requirement already satisfied: joblib in /Users/khushpatel2002/inno/pmldl_project/.venv/lib/python3.11/site-packages (from nltk) (1.4.2)\n",
            "Requirement already satisfied: regex>=2021.8.3 in /Users/khushpatel2002/inno/pmldl_project/.venv/lib/python3.11/site-packages (from nltk) (2024.9.11)\n",
            "Requirement already satisfied: tqdm in /Users/khushpatel2002/inno/pmldl_project/.venv/lib/python3.11/site-packages (from nltk) (4.66.5)\n",
            "Requirement already satisfied: numpy>=1.23.2 in /Users/khushpatel2002/inno/pmldl_project/.venv/lib/python3.11/site-packages (from pandas) (2.1.1)\n",
            "Requirement already satisfied: python-dateutil>=2.8.2 in /Users/khushpatel2002/inno/pmldl_project/.venv/lib/python3.11/site-packages (from pandas) (2.9.0.post0)\n",
            "Requirement already satisfied: pytz>=2020.1 in /Users/khushpatel2002/inno/pmldl_project/.venv/lib/python3.11/site-packages (from pandas) (2024.2)\n",
            "Requirement already satisfied: tzdata>=2022.7 in /Users/khushpatel2002/inno/pmldl_project/.venv/lib/python3.11/site-packages (from pandas) (2024.1)\n",
            "Requirement already satisfied: six>=1.5 in /Users/khushpatel2002/inno/pmldl_project/.venv/lib/python3.11/site-packages (from python-dateutil>=2.8.2->pandas) (1.16.0)\n"
          ]
        }
      ],
      "source": [
        "!pip install nltk pandas"
      ]
    },
    {
      "cell_type": "code",
      "execution_count": 2,
      "metadata": {},
      "outputs": [
        {
          "name": "stderr",
          "output_type": "stream",
          "text": [
            "[nltk_data] Downloading package punkt to\n",
            "[nltk_data]     /Users/khushpatel2002/nltk_data...\n",
            "[nltk_data]   Package punkt is already up-to-date!\n",
            "[nltk_data] Downloading package stopwords to\n",
            "[nltk_data]     /Users/khushpatel2002/nltk_data...\n",
            "[nltk_data]   Package stopwords is already up-to-date!\n"
          ]
        },
        {
          "data": {
            "text/plain": [
              "True"
            ]
          },
          "execution_count": 2,
          "metadata": {},
          "output_type": "execute_result"
        }
      ],
      "source": [
        "import pandas as pd\n",
        "import pandas as pd\n",
        "import re\n",
        "import nltk\n",
        "from nltk.corpus import stopwords\n",
        "from nltk.tokenize import word_tokenize\n",
        "\n",
        "# Download stopwords\n",
        "nltk.download('punkt')\n",
        "nltk.download('stopwords')\n"
      ]
    },
    {
      "cell_type": "code",
      "execution_count": 3,
      "metadata": {},
      "outputs": [
        {
          "name": "stderr",
          "output_type": "stream",
          "text": [
            "/Users/khushpatel2002/inno/pmldl_project/.venv/lib/python3.11/site-packages/tqdm/auto.py:21: TqdmWarning: IProgress not found. Please update jupyter and ipywidgets. See https://ipywidgets.readthedocs.io/en/stable/user_install.html\n",
            "  from .autonotebook import tqdm as notebook_tqdm\n"
          ]
        },
        {
          "data": {
            "text/html": [
              "<div>\n",
              "<style scoped>\n",
              "    .dataframe tbody tr th:only-of-type {\n",
              "        vertical-align: middle;\n",
              "    }\n",
              "\n",
              "    .dataframe tbody tr th {\n",
              "        vertical-align: top;\n",
              "    }\n",
              "\n",
              "    .dataframe thead th {\n",
              "        text-align: right;\n",
              "    }\n",
              "</style>\n",
              "<table border=\"1\" class=\"dataframe\">\n",
              "  <thead>\n",
              "    <tr style=\"text-align: right;\">\n",
              "      <th></th>\n",
              "      <th>en_toxic_comment</th>\n",
              "      <th>en_neutral_comment</th>\n",
              "    </tr>\n",
              "  </thead>\n",
              "  <tbody>\n",
              "    <tr>\n",
              "      <th>0</th>\n",
              "      <td>he had steel balls too !</td>\n",
              "      <td>he was brave too!</td>\n",
              "    </tr>\n",
              "    <tr>\n",
              "      <th>1</th>\n",
              "      <td>dude should have been taken to api , he would ...</td>\n",
              "      <td>It would have been good if he went to api. He ...</td>\n",
              "    </tr>\n",
              "    <tr>\n",
              "      <th>2</th>\n",
              "      <td>im not gonna sell the fucking picture , i just...</td>\n",
              "      <td>I'm not gonna sell the picture, i just want to...</td>\n",
              "    </tr>\n",
              "    <tr>\n",
              "      <th>3</th>\n",
              "      <td>the garbage that is being created by cnn and o...</td>\n",
              "      <td>the news that is being created by cnn and othe...</td>\n",
              "    </tr>\n",
              "    <tr>\n",
              "      <th>4</th>\n",
              "      <td>the reason they dont exist is because neither ...</td>\n",
              "      <td>The reason they don't exist is because neither...</td>\n",
              "    </tr>\n",
              "    <tr>\n",
              "      <th>...</th>\n",
              "      <td>...</td>\n",
              "      <td>...</td>\n",
              "    </tr>\n",
              "    <tr>\n",
              "      <th>19739</th>\n",
              "      <td>when they do shit like this .</td>\n",
              "      <td>when they do stuff like this</td>\n",
              "    </tr>\n",
              "    <tr>\n",
              "      <th>19740</th>\n",
              "      <td>but if saying \" fuck that group \" is much more...</td>\n",
              "      <td>but if saying\" that group is bad\" is much more...</td>\n",
              "    </tr>\n",
              "    <tr>\n",
              "      <th>19741</th>\n",
              "      <td>it hurts how judgemental assholes view them , ...</td>\n",
              "      <td>It hurts how judgemental that people view them...</td>\n",
              "    </tr>\n",
              "    <tr>\n",
              "      <th>19742</th>\n",
              "      <td>shit we probably literally blow that up in a w...</td>\n",
              "      <td>We probably litteralky blow that up in a week.</td>\n",
              "    </tr>\n",
              "    <tr>\n",
              "      <th>19743</th>\n",
              "      <td>if anyone deserved it , it was this shit bag .</td>\n",
              "      <td>if anyone deserved it , it was this bad bag .</td>\n",
              "    </tr>\n",
              "  </tbody>\n",
              "</table>\n",
              "<p>19744 rows × 2 columns</p>\n",
              "</div>"
            ],
            "text/plain": [
              "                                        en_toxic_comment  \\\n",
              "0                               he had steel balls too !   \n",
              "1      dude should have been taken to api , he would ...   \n",
              "2      im not gonna sell the fucking picture , i just...   \n",
              "3      the garbage that is being created by cnn and o...   \n",
              "4      the reason they dont exist is because neither ...   \n",
              "...                                                  ...   \n",
              "19739                      when they do shit like this .   \n",
              "19740  but if saying \" fuck that group \" is much more...   \n",
              "19741  it hurts how judgemental assholes view them , ...   \n",
              "19742  shit we probably literally blow that up in a w...   \n",
              "19743     if anyone deserved it , it was this shit bag .   \n",
              "\n",
              "                                      en_neutral_comment  \n",
              "0                                      he was brave too!  \n",
              "1      It would have been good if he went to api. He ...  \n",
              "2      I'm not gonna sell the picture, i just want to...  \n",
              "3      the news that is being created by cnn and othe...  \n",
              "4      The reason they don't exist is because neither...  \n",
              "...                                                  ...  \n",
              "19739                       when they do stuff like this  \n",
              "19740  but if saying\" that group is bad\" is much more...  \n",
              "19741  It hurts how judgemental that people view them...  \n",
              "19742     We probably litteralky blow that up in a week.  \n",
              "19743      if anyone deserved it , it was this bad bag .  \n",
              "\n",
              "[19744 rows x 2 columns]"
            ]
          },
          "execution_count": 3,
          "metadata": {},
          "output_type": "execute_result"
        }
      ],
      "source": [
        "df = pd.read_csv(\"hf://datasets/s-nlp/paradetox/train.tsv\", sep=\"\\t\")\n",
        "df"
      ]
    },
    {
      "cell_type": "code",
      "execution_count": 4,
      "metadata": {},
      "outputs": [],
      "source": [
        "# Function to clean and preprocess text\n",
        "def clean_text(text):\n",
        "    # Convert text to lowercase\n",
        "    text = text.lower()\n",
        "    \n",
        "    # Remove URLs\n",
        "    text = re.sub(r'http\\S+|www\\S+|https\\S+', '', text, flags=re.MULTILINE)\n",
        "    \n",
        "    # Remove HTML tags\n",
        "    text = re.sub(r'<.*?>', '', text)\n",
        "    \n",
        "    # Remove special characters and digits\n",
        "    text = re.sub(r'\\[.*?\\]', '', text)\n",
        "    text = re.sub(r'[^a-zA-Z\\s]', '', text)\n",
        "    \n",
        "    # Remove extra spaces\n",
        "    text = re.sub(r'\\s+', ' ', text).strip()\n",
        "    \n",
        "    return text"
      ]
    },
    {
      "cell_type": "code",
      "execution_count": 5,
      "metadata": {},
      "outputs": [],
      "source": [
        "# Apply the cleaning function to both the toxic and neutral columns\n",
        "df['clean_toxic_comment'] = df['en_toxic_comment'].apply(clean_text)\n",
        "df['clean_neutral_comment'] = df['en_neutral_comment'].apply(clean_text)"
      ]
    },
    {
      "cell_type": "code",
      "execution_count": 11,
      "metadata": {},
      "outputs": [
        {
          "name": "stdout",
          "output_type": "stream",
          "text": [
            "                                 clean_toxic_comment  \\\n",
            "0                             he had steel balls too   \n",
            "1  dude should have been taken to api he would be...   \n",
            "2  im not gonna sell the fucking picture i just w...   \n",
            "3  the garbage that is being created by cnn and o...   \n",
            "4  the reason they dont exist is because neither ...   \n",
            "\n",
            "                               clean_neutral_comment  \n",
            "0                                   he was brave too  \n",
            "1  it would have been good if he went to api he w...  \n",
            "2  im not gonna sell the picture i just want to c...  \n",
            "3  the news that is being created by cnn and othe...  \n",
            "4  the reason they dont exist is because neither ...  \n",
            "Total rows: 19744\n",
            "Average toxic comment length (words): 51.83772285251216\n",
            "Average neutral comment length (words): 44.586659238249595\n"
          ]
        }
      ],
      "source": [
        "# Save the cleaned data to a new file\n",
        "cleaned_data_path = \"cleaned_train_data.csv\"\n",
        "df.to_csv(cleaned_data_path, index=False)\n",
        "\n",
        "# Display the first few rows of cleaned data\n",
        "print(df[['clean_toxic_comment', 'clean_neutral_comment']].head())\n",
        "\n",
        "# Summary statistics (optional)\n",
        "print(\"Total rows:\", len(df))\n",
        "print(\"Average toxic comment length (words):\", df['clean_toxic_comment'].apply(len).mean())\n",
        "print(\"Average neutral comment length (words):\", df['clean_neutral_comment'].apply(len).mean())"
      ]
    }
  ],
  "metadata": {
    "accelerator": "GPU",
    "colab": {
      "gpuType": "T4",
      "provenance": []
    },
    "kernelspec": {
      "display_name": "Python 3",
      "name": "python3"
    },
    "language_info": {
      "codemirror_mode": {
        "name": "ipython",
        "version": 3
      },
      "file_extension": ".py",
      "mimetype": "text/x-python",
      "name": "python",
      "nbconvert_exporter": "python",
      "pygments_lexer": "ipython3",
      "version": "3.11.9"
    }
  },
  "nbformat": 4,
  "nbformat_minor": 0
}
